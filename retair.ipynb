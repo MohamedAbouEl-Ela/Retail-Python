{
 "cells": [
  {
   "cell_type": "code",
   "execution_count": null,
   "metadata": {},
   "outputs": [],
   "source": []
  },
  {
   "cell_type": "markdown",
   "metadata": {},
   "source": [
    "# Import libraries"
   ]
  },
  {
   "cell_type": "code",
   "execution_count": 3,
   "metadata": {},
   "outputs": [],
   "source": [
    "import pandas as pd\n",
    "import numpy as nm \n",
    "import matplotlib.pyplot as plt\n",
    "import seaborn as sns"
   ]
  },
  {
   "cell_type": "markdown",
   "metadata": {},
   "source": [
    "### Load Data / Explor First (5) Row\n"
   ]
  },
  {
   "cell_type": "code",
   "execution_count": 4,
   "metadata": {},
   "outputs": [
    {
     "data": {
      "text/html": [
       "<div>\n",
       "<style scoped>\n",
       "    .dataframe tbody tr th:only-of-type {\n",
       "        vertical-align: middle;\n",
       "    }\n",
       "\n",
       "    .dataframe tbody tr th {\n",
       "        vertical-align: top;\n",
       "    }\n",
       "\n",
       "    .dataframe thead th {\n",
       "        text-align: right;\n",
       "    }\n",
       "</style>\n",
       "<table border=\"1\" class=\"dataframe\">\n",
       "  <thead>\n",
       "    <tr style=\"text-align: right;\">\n",
       "      <th></th>\n",
       "      <th>Retailer</th>\n",
       "      <th>Retailer ID</th>\n",
       "      <th>Invoice Date</th>\n",
       "      <th>Region</th>\n",
       "      <th>State</th>\n",
       "      <th>City</th>\n",
       "      <th>Product</th>\n",
       "      <th>Price per Unit</th>\n",
       "      <th>Units Sold</th>\n",
       "      <th>Total Sales</th>\n",
       "      <th>Operating Profit</th>\n",
       "      <th>Sales Method</th>\n",
       "    </tr>\n",
       "  </thead>\n",
       "  <tbody>\n",
       "    <tr>\n",
       "      <th>0</th>\n",
       "      <td>Foot Locker</td>\n",
       "      <td>1185732</td>\n",
       "      <td>1/1/2020</td>\n",
       "      <td>Northeast</td>\n",
       "      <td>New York</td>\n",
       "      <td>New York</td>\n",
       "      <td>Men's Street Footwear</td>\n",
       "      <td>$50.00</td>\n",
       "      <td>1,200</td>\n",
       "      <td>60,000</td>\n",
       "      <td>$30,000</td>\n",
       "      <td>In-store</td>\n",
       "    </tr>\n",
       "    <tr>\n",
       "      <th>1</th>\n",
       "      <td>Foot Locker</td>\n",
       "      <td>1185732</td>\n",
       "      <td>1/2/2020</td>\n",
       "      <td>Northeast</td>\n",
       "      <td>New York</td>\n",
       "      <td>New York</td>\n",
       "      <td>Men's Athletic Footwear</td>\n",
       "      <td>$50.00</td>\n",
       "      <td>1,000</td>\n",
       "      <td>50,000</td>\n",
       "      <td>$15,000</td>\n",
       "      <td>In-store</td>\n",
       "    </tr>\n",
       "    <tr>\n",
       "      <th>2</th>\n",
       "      <td>Foot Locker</td>\n",
       "      <td>1185732</td>\n",
       "      <td>1/3/2020</td>\n",
       "      <td>Northeast</td>\n",
       "      <td>New York</td>\n",
       "      <td>New York</td>\n",
       "      <td>Women's Street Footwear</td>\n",
       "      <td>$40.00</td>\n",
       "      <td>1,000</td>\n",
       "      <td>40,000</td>\n",
       "      <td>$14,000</td>\n",
       "      <td>In-store</td>\n",
       "    </tr>\n",
       "    <tr>\n",
       "      <th>3</th>\n",
       "      <td>Foot Locker</td>\n",
       "      <td>1185732</td>\n",
       "      <td>1/4/2020</td>\n",
       "      <td>Northeast</td>\n",
       "      <td>New York</td>\n",
       "      <td>New York</td>\n",
       "      <td>Women's Athletic Footwear</td>\n",
       "      <td>$45.00</td>\n",
       "      <td>850</td>\n",
       "      <td>38,250</td>\n",
       "      <td>$13,388</td>\n",
       "      <td>In-store</td>\n",
       "    </tr>\n",
       "    <tr>\n",
       "      <th>4</th>\n",
       "      <td>Foot Locker</td>\n",
       "      <td>1185732</td>\n",
       "      <td>1/5/2020</td>\n",
       "      <td>Northeast</td>\n",
       "      <td>New York</td>\n",
       "      <td>New York</td>\n",
       "      <td>Men's Apparel</td>\n",
       "      <td>$60.00</td>\n",
       "      <td>900</td>\n",
       "      <td>54,000</td>\n",
       "      <td>$16,200</td>\n",
       "      <td>In-store</td>\n",
       "    </tr>\n",
       "  </tbody>\n",
       "</table>\n",
       "</div>"
      ],
      "text/plain": [
       "      Retailer  Retailer ID Invoice Date     Region     State      City  \\\n",
       "0  Foot Locker      1185732     1/1/2020  Northeast  New York  New York   \n",
       "1  Foot Locker      1185732     1/2/2020  Northeast  New York  New York   \n",
       "2  Foot Locker      1185732     1/3/2020  Northeast  New York  New York   \n",
       "3  Foot Locker      1185732     1/4/2020  Northeast  New York  New York   \n",
       "4  Foot Locker      1185732     1/5/2020  Northeast  New York  New York   \n",
       "\n",
       "                     Product Price per Unit Units Sold Total Sales  \\\n",
       "0      Men's Street Footwear        $50.00       1,200      60,000   \n",
       "1    Men's Athletic Footwear        $50.00       1,000      50,000   \n",
       "2    Women's Street Footwear        $40.00       1,000      40,000   \n",
       "3  Women's Athletic Footwear        $45.00         850      38,250   \n",
       "4              Men's Apparel        $60.00         900      54,000   \n",
       "\n",
       "  Operating Profit Sales Method  \n",
       "0         $30,000      In-store  \n",
       "1         $15,000      In-store  \n",
       "2         $14,000      In-store  \n",
       "3         $13,388      In-store  \n",
       "4         $16,200      In-store  "
      ]
     },
     "execution_count": 4,
     "metadata": {},
     "output_type": "execute_result"
    }
   ],
   "source": [
    "data = pd.read_csv('data.csv')\n",
    "data.head(5)"
   ]
  },
  {
   "cell_type": "code",
   "execution_count": 5,
   "metadata": {},
   "outputs": [
    {
     "name": "stdout",
     "output_type": "stream",
     "text": [
      "<class 'pandas.core.frame.DataFrame'>\n",
      "RangeIndex: 9648 entries, 0 to 9647\n",
      "Data columns (total 12 columns):\n",
      " #   Column            Non-Null Count  Dtype \n",
      "---  ------            --------------  ----- \n",
      " 0   Retailer          9648 non-null   object\n",
      " 1   Retailer ID       9648 non-null   int64 \n",
      " 2   Invoice Date      9648 non-null   object\n",
      " 3   Region            9641 non-null   object\n",
      " 4   State             9648 non-null   object\n",
      " 5   City              9648 non-null   object\n",
      " 6   Product           9648 non-null   object\n",
      " 7   Price per Unit    9646 non-null   object\n",
      " 8   Units Sold        9648 non-null   object\n",
      " 9   Total Sales       9648 non-null   object\n",
      " 10  Operating Profit  9648 non-null   object\n",
      " 11  Sales Method      9648 non-null   object\n",
      "dtypes: int64(1), object(11)\n",
      "memory usage: 904.6+ KB\n"
     ]
    }
   ],
   "source": [
    "data.info()"
   ]
  },
  {
   "cell_type": "code",
   "execution_count": 46,
   "metadata": {},
   "outputs": [
    {
     "data": {
      "text/html": [
       "<div>\n",
       "<style scoped>\n",
       "    .dataframe tbody tr th:only-of-type {\n",
       "        vertical-align: middle;\n",
       "    }\n",
       "\n",
       "    .dataframe tbody tr th {\n",
       "        vertical-align: top;\n",
       "    }\n",
       "\n",
       "    .dataframe thead th {\n",
       "        text-align: right;\n",
       "    }\n",
       "</style>\n",
       "<table border=\"1\" class=\"dataframe\">\n",
       "  <thead>\n",
       "    <tr style=\"text-align: right;\">\n",
       "      <th></th>\n",
       "      <th>Retailer</th>\n",
       "      <th>Retailer ID</th>\n",
       "      <th>Invoice Date</th>\n",
       "      <th>Region</th>\n",
       "      <th>State</th>\n",
       "      <th>City</th>\n",
       "      <th>Product</th>\n",
       "      <th>Price per Unit</th>\n",
       "      <th>Units Sold</th>\n",
       "      <th>Total Sales</th>\n",
       "      <th>Operating Profit</th>\n",
       "      <th>Sales Method</th>\n",
       "      <th>(Total Sales, Units Sold)</th>\n",
       "    </tr>\n",
       "  </thead>\n",
       "  <tbody>\n",
       "    <tr>\n",
       "      <th>9350</th>\n",
       "      <td>Foot Locker</td>\n",
       "      <td>1185732</td>\n",
       "      <td>12/3/2021</td>\n",
       "      <td>Northeast</td>\n",
       "      <td>Connecticut</td>\n",
       "      <td>Hartford</td>\n",
       "      <td>Women's Apparel</td>\n",
       "      <td>52.0</td>\n",
       "      <td>120</td>\n",
       "      <td>624</td>\n",
       "      <td>231</td>\n",
       "      <td>Outlet</td>\n",
       "      <td>624</td>\n",
       "    </tr>\n",
       "    <tr>\n",
       "      <th>3333</th>\n",
       "      <td>West Gear</td>\n",
       "      <td>1185732</td>\n",
       "      <td>6/22/2021</td>\n",
       "      <td>Northeast</td>\n",
       "      <td>Maryland</td>\n",
       "      <td>Baltimore</td>\n",
       "      <td>Men's Street Footwear</td>\n",
       "      <td>50.0</td>\n",
       "      <td>500</td>\n",
       "      <td>25000</td>\n",
       "      <td>10000</td>\n",
       "      <td>In-store</td>\n",
       "      <td>25000</td>\n",
       "    </tr>\n",
       "    <tr>\n",
       "      <th>1325</th>\n",
       "      <td>Foot Locker</td>\n",
       "      <td>1128299</td>\n",
       "      <td>7/9/2021</td>\n",
       "      <td>West</td>\n",
       "      <td>Hawaii</td>\n",
       "      <td>Honolulu</td>\n",
       "      <td>Women's Street Footwear</td>\n",
       "      <td>85.0</td>\n",
       "      <td>600</td>\n",
       "      <td>51000</td>\n",
       "      <td>12750</td>\n",
       "      <td>Outlet</td>\n",
       "      <td>51000</td>\n",
       "    </tr>\n",
       "    <tr>\n",
       "      <th>6579</th>\n",
       "      <td>Walmart</td>\n",
       "      <td>1197831</td>\n",
       "      <td>7/19/2021</td>\n",
       "      <td>South</td>\n",
       "      <td>Arkansas</td>\n",
       "      <td>Little Rock</td>\n",
       "      <td>Men's Street Footwear</td>\n",
       "      <td>50.0</td>\n",
       "      <td>233</td>\n",
       "      <td>1165</td>\n",
       "      <td>583</td>\n",
       "      <td>Online</td>\n",
       "      <td>1165</td>\n",
       "    </tr>\n",
       "    <tr>\n",
       "      <th>6424</th>\n",
       "      <td>Amazon</td>\n",
       "      <td>1185732</td>\n",
       "      <td>5/23/2021</td>\n",
       "      <td>Southeast</td>\n",
       "      <td>Kentucky</td>\n",
       "      <td>Louisville</td>\n",
       "      <td>Men's Athletic Footwear</td>\n",
       "      <td>42.0</td>\n",
       "      <td>68</td>\n",
       "      <td>286</td>\n",
       "      <td>143</td>\n",
       "      <td>Online</td>\n",
       "      <td>286</td>\n",
       "    </tr>\n",
       "  </tbody>\n",
       "</table>\n",
       "</div>"
      ],
      "text/plain": [
       "         Retailer  Retailer ID Invoice Date     Region        State  \\\n",
       "9350  Foot Locker      1185732    12/3/2021  Northeast  Connecticut   \n",
       "3333    West Gear      1185732    6/22/2021  Northeast     Maryland   \n",
       "1325  Foot Locker      1128299     7/9/2021       West       Hawaii   \n",
       "6579      Walmart      1197831    7/19/2021      South     Arkansas   \n",
       "6424       Amazon      1185732    5/23/2021  Southeast     Kentucky   \n",
       "\n",
       "             City                  Product  Price per Unit Units Sold  \\\n",
       "9350     Hartford          Women's Apparel            52.0        120   \n",
       "3333    Baltimore    Men's Street Footwear            50.0        500   \n",
       "1325     Honolulu  Women's Street Footwear            85.0        600   \n",
       "6579  Little Rock    Men's Street Footwear            50.0        233   \n",
       "6424   Louisville  Men's Athletic Footwear            42.0         68   \n",
       "\n",
       "      Total Sales  Operating Profit Sales Method  (Total Sales, Units Sold)  \n",
       "9350          624               231       Outlet                        624  \n",
       "3333        25000             10000     In-store                      25000  \n",
       "1325        51000             12750       Outlet                      51000  \n",
       "6579         1165               583       Online                       1165  \n",
       "6424          286               143       Online                        286  "
      ]
     },
     "execution_count": 46,
     "metadata": {},
     "output_type": "execute_result"
    }
   ],
   "source": [
    "data.sample(5)"
   ]
  },
  {
   "cell_type": "markdown",
   "metadata": {},
   "source": [
    "# Data Cleaning"
   ]
  },
  {
   "cell_type": "code",
   "execution_count": 10,
   "metadata": {},
   "outputs": [
    {
     "data": {
      "text/plain": [
       "0       60000\n",
       "1       50000\n",
       "2       40000\n",
       "3       38250\n",
       "4       54000\n",
       "        ...  \n",
       "9643      320\n",
       "9644      431\n",
       "9645      754\n",
       "9646      294\n",
       "9647      241\n",
       "Name: Total Sales, Length: 9648, dtype: object"
      ]
     },
     "execution_count": 10,
     "metadata": {},
     "output_type": "execute_result"
    }
   ],
   "source": [
    "data['Total Sales']=data['Total Sales'].str.replace(',','')\n",
    "data['Total Sales']"
   ]
  },
  {
   "cell_type": "code",
   "execution_count": 14,
   "metadata": {},
   "outputs": [
    {
     "name": "stdout",
     "output_type": "stream",
     "text": [
      "<class 'pandas.core.frame.DataFrame'>\n",
      "RangeIndex: 9648 entries, 0 to 9647\n",
      "Data columns (total 13 columns):\n",
      " #   Column                     Non-Null Count  Dtype \n",
      "---  ------                     --------------  ----- \n",
      " 0   Retailer                   9648 non-null   object\n",
      " 1   Retailer ID                9648 non-null   int64 \n",
      " 2   Invoice Date               9648 non-null   object\n",
      " 3   Region                     9641 non-null   object\n",
      " 4   State                      9648 non-null   object\n",
      " 5   City                       9648 non-null   object\n",
      " 6   Product                    9648 non-null   object\n",
      " 7   Price per Unit             9646 non-null   object\n",
      " 8   Units Sold                 9648 non-null   object\n",
      " 9   Total Sales                9648 non-null   int32 \n",
      " 10  Operating Profit           9648 non-null   object\n",
      " 11  Sales Method               9648 non-null   object\n",
      " 12  (Total Sales, Units Sold)  9648 non-null   int32 \n",
      "dtypes: int32(2), int64(1), object(10)\n",
      "memory usage: 904.6+ KB\n"
     ]
    }
   ],
   "source": [
    "data['Total Sales']=data['Total Sales'].astype('int')\n",
    "data.info()"
   ]
  },
  {
   "cell_type": "code",
   "execution_count": 20,
   "metadata": {},
   "outputs": [
    {
     "data": {
      "text/plain": [
       "0       30000 \n",
       "1       15000 \n",
       "2       14000 \n",
       "3       13388 \n",
       "4       16200 \n",
       "         ...  \n",
       "9643       90 \n",
       "9644      138 \n",
       "9645      279 \n",
       "9646      123 \n",
       "9647       65 \n",
       "Name: Operating Profit, Length: 9648, dtype: object"
      ]
     },
     "execution_count": 20,
     "metadata": {},
     "output_type": "execute_result"
    }
   ],
   "source": [
    "data['Operating Profit']=data['Operating Profit'].str.replace('$','').str.replace(',','')\n",
    "data['Operating Profit']"
   ]
  },
  {
   "cell_type": "code",
   "execution_count": 21,
   "metadata": {},
   "outputs": [],
   "source": [
    "data['Operating Profit']=data['Operating Profit'].astype('int')"
   ]
  },
  {
   "cell_type": "code",
   "execution_count": 22,
   "metadata": {},
   "outputs": [],
   "source": [
    "data['Price per Unit']=data['Price per Unit'].str.replace('$','').str.replace(',','')\n"
   ]
  },
  {
   "cell_type": "code",
   "execution_count": 26,
   "metadata": {},
   "outputs": [],
   "source": [
    "data['Price per Unit']=data['Price per Unit'].astype('float')\n"
   ]
  },
  {
   "cell_type": "code",
   "execution_count": 50,
   "metadata": {},
   "outputs": [],
   "source": [
    "data['Units Sold']=data['Units Sold'].str.replace(',','')"
   ]
  },
  {
   "cell_type": "code",
   "execution_count": 51,
   "metadata": {},
   "outputs": [],
   "source": [
    "data['Units Sold']=data['Units Sold'].astype('int')"
   ]
  },
  {
   "cell_type": "code",
   "execution_count": 54,
   "metadata": {},
   "outputs": [
    {
     "name": "stdout",
     "output_type": "stream",
     "text": [
      "<class 'pandas.core.frame.DataFrame'>\n",
      "RangeIndex: 9648 entries, 0 to 9647\n",
      "Data columns (total 13 columns):\n",
      " #   Column                     Non-Null Count  Dtype         \n",
      "---  ------                     --------------  -----         \n",
      " 0   Retailer                   9648 non-null   object        \n",
      " 1   Retailer ID                9648 non-null   int64         \n",
      " 2   Invoice Date               9648 non-null   datetime64[ns]\n",
      " 3   Region                     9641 non-null   object        \n",
      " 4   State                      9648 non-null   object        \n",
      " 5   City                       9648 non-null   object        \n",
      " 6   Product                    9648 non-null   object        \n",
      " 7   Price per Unit             9646 non-null   float64       \n",
      " 8   Units Sold                 9648 non-null   int32         \n",
      " 9   Total Sales                9648 non-null   int32         \n",
      " 10  Operating Profit           9648 non-null   int32         \n",
      " 11  Sales Method               9648 non-null   object        \n",
      " 12  (Total Sales, Units Sold)  9648 non-null   int32         \n",
      "dtypes: datetime64[ns](1), float64(1), int32(4), int64(1), object(6)\n",
      "memory usage: 829.3+ KB\n"
     ]
    }
   ],
   "source": [
    "data['Invoice Date']=pd.to_datetime(data['Invoice Date'])\n",
    "data.info()"
   ]
  },
  {
   "cell_type": "code",
   "execution_count": 56,
   "metadata": {},
   "outputs": [],
   "source": [
    "data['month']=data['Invoice Date'].dt.month"
   ]
  },
  {
   "cell_type": "code",
   "execution_count": 57,
   "metadata": {},
   "outputs": [],
   "source": [
    "data['year']=data['Invoice Date'].dt.year"
   ]
  },
  {
   "cell_type": "code",
   "execution_count": 62,
   "metadata": {},
   "outputs": [
    {
     "ename": "KeyError",
     "evalue": "\"['Invoice Date'] not found in axis\"",
     "output_type": "error",
     "traceback": [
      "\u001b[1;31m---------------------------------------------------------------------------\u001b[0m",
      "\u001b[1;31mKeyError\u001b[0m                                  Traceback (most recent call last)",
      "\u001b[1;32md:\\Courses\\01Data Analysis\\02 Projects\\02 Python DA Projects\\Retair\\retair.ipynb Cell 20\u001b[0m line \u001b[0;36m1\n\u001b[1;32m----> <a href='vscode-notebook-cell:/d%3A/Courses/01Data%20Analysis/02%20Projects/02%20Python%20DA%20Projects/Retair/retair.ipynb#X25sZmlsZQ%3D%3D?line=0'>1</a>\u001b[0m data\u001b[39m.\u001b[39;49mdrop(\u001b[39m'\u001b[39;49m\u001b[39mInvoice Date\u001b[39;49m\u001b[39m'\u001b[39;49m,axis\u001b[39m=\u001b[39;49m\u001b[39m1\u001b[39;49m , inplace\u001b[39m=\u001b[39;49m\u001b[39mTrue\u001b[39;49;00m)\n",
      "File \u001b[1;32mc:\\Users\\LENOVO\\AppData\\Local\\Programs\\Python\\Python312\\Lib\\site-packages\\pandas\\core\\frame.py:5568\u001b[0m, in \u001b[0;36mDataFrame.drop\u001b[1;34m(self, labels, axis, index, columns, level, inplace, errors)\u001b[0m\n\u001b[0;32m   5420\u001b[0m \u001b[39mdef\u001b[39;00m \u001b[39mdrop\u001b[39m(\n\u001b[0;32m   5421\u001b[0m     \u001b[39mself\u001b[39m,\n\u001b[0;32m   5422\u001b[0m     labels: IndexLabel \u001b[39m|\u001b[39m \u001b[39mNone\u001b[39;00m \u001b[39m=\u001b[39m \u001b[39mNone\u001b[39;00m,\n\u001b[1;32m   (...)\u001b[0m\n\u001b[0;32m   5429\u001b[0m     errors: IgnoreRaise \u001b[39m=\u001b[39m \u001b[39m\"\u001b[39m\u001b[39mraise\u001b[39m\u001b[39m\"\u001b[39m,\n\u001b[0;32m   5430\u001b[0m ) \u001b[39m-\u001b[39m\u001b[39m>\u001b[39m DataFrame \u001b[39m|\u001b[39m \u001b[39mNone\u001b[39;00m:\n\u001b[0;32m   5431\u001b[0m \u001b[39m    \u001b[39m\u001b[39m\"\"\"\u001b[39;00m\n\u001b[0;32m   5432\u001b[0m \u001b[39m    Drop specified labels from rows or columns.\u001b[39;00m\n\u001b[0;32m   5433\u001b[0m \n\u001b[1;32m   (...)\u001b[0m\n\u001b[0;32m   5566\u001b[0m \u001b[39m            weight  1.0     0.8\u001b[39;00m\n\u001b[0;32m   5567\u001b[0m \u001b[39m    \"\"\"\u001b[39;00m\n\u001b[1;32m-> 5568\u001b[0m     \u001b[39mreturn\u001b[39;00m \u001b[39msuper\u001b[39;49m()\u001b[39m.\u001b[39;49mdrop(\n\u001b[0;32m   5569\u001b[0m         labels\u001b[39m=\u001b[39;49mlabels,\n\u001b[0;32m   5570\u001b[0m         axis\u001b[39m=\u001b[39;49maxis,\n\u001b[0;32m   5571\u001b[0m         index\u001b[39m=\u001b[39;49mindex,\n\u001b[0;32m   5572\u001b[0m         columns\u001b[39m=\u001b[39;49mcolumns,\n\u001b[0;32m   5573\u001b[0m         level\u001b[39m=\u001b[39;49mlevel,\n\u001b[0;32m   5574\u001b[0m         inplace\u001b[39m=\u001b[39;49minplace,\n\u001b[0;32m   5575\u001b[0m         errors\u001b[39m=\u001b[39;49merrors,\n\u001b[0;32m   5576\u001b[0m     )\n",
      "File \u001b[1;32mc:\\Users\\LENOVO\\AppData\\Local\\Programs\\Python\\Python312\\Lib\\site-packages\\pandas\\core\\generic.py:4785\u001b[0m, in \u001b[0;36mNDFrame.drop\u001b[1;34m(self, labels, axis, index, columns, level, inplace, errors)\u001b[0m\n\u001b[0;32m   4783\u001b[0m \u001b[39mfor\u001b[39;00m axis, labels \u001b[39min\u001b[39;00m axes\u001b[39m.\u001b[39mitems():\n\u001b[0;32m   4784\u001b[0m     \u001b[39mif\u001b[39;00m labels \u001b[39mis\u001b[39;00m \u001b[39mnot\u001b[39;00m \u001b[39mNone\u001b[39;00m:\n\u001b[1;32m-> 4785\u001b[0m         obj \u001b[39m=\u001b[39m obj\u001b[39m.\u001b[39;49m_drop_axis(labels, axis, level\u001b[39m=\u001b[39;49mlevel, errors\u001b[39m=\u001b[39;49merrors)\n\u001b[0;32m   4787\u001b[0m \u001b[39mif\u001b[39;00m inplace:\n\u001b[0;32m   4788\u001b[0m     \u001b[39mself\u001b[39m\u001b[39m.\u001b[39m_update_inplace(obj)\n",
      "File \u001b[1;32mc:\\Users\\LENOVO\\AppData\\Local\\Programs\\Python\\Python312\\Lib\\site-packages\\pandas\\core\\generic.py:4827\u001b[0m, in \u001b[0;36mNDFrame._drop_axis\u001b[1;34m(self, labels, axis, level, errors, only_slice)\u001b[0m\n\u001b[0;32m   4825\u001b[0m         new_axis \u001b[39m=\u001b[39m axis\u001b[39m.\u001b[39mdrop(labels, level\u001b[39m=\u001b[39mlevel, errors\u001b[39m=\u001b[39merrors)\n\u001b[0;32m   4826\u001b[0m     \u001b[39melse\u001b[39;00m:\n\u001b[1;32m-> 4827\u001b[0m         new_axis \u001b[39m=\u001b[39m axis\u001b[39m.\u001b[39;49mdrop(labels, errors\u001b[39m=\u001b[39;49merrors)\n\u001b[0;32m   4828\u001b[0m     indexer \u001b[39m=\u001b[39m axis\u001b[39m.\u001b[39mget_indexer(new_axis)\n\u001b[0;32m   4830\u001b[0m \u001b[39m# Case for non-unique axis\u001b[39;00m\n\u001b[0;32m   4831\u001b[0m \u001b[39melse\u001b[39;00m:\n",
      "File \u001b[1;32mc:\\Users\\LENOVO\\AppData\\Local\\Programs\\Python\\Python312\\Lib\\site-packages\\pandas\\core\\indexes\\base.py:7070\u001b[0m, in \u001b[0;36mIndex.drop\u001b[1;34m(self, labels, errors)\u001b[0m\n\u001b[0;32m   7068\u001b[0m \u001b[39mif\u001b[39;00m mask\u001b[39m.\u001b[39many():\n\u001b[0;32m   7069\u001b[0m     \u001b[39mif\u001b[39;00m errors \u001b[39m!=\u001b[39m \u001b[39m\"\u001b[39m\u001b[39mignore\u001b[39m\u001b[39m\"\u001b[39m:\n\u001b[1;32m-> 7070\u001b[0m         \u001b[39mraise\u001b[39;00m \u001b[39mKeyError\u001b[39;00m(\u001b[39mf\u001b[39m\u001b[39m\"\u001b[39m\u001b[39m{\u001b[39;00mlabels[mask]\u001b[39m.\u001b[39mtolist()\u001b[39m}\u001b[39;00m\u001b[39m not found in axis\u001b[39m\u001b[39m\"\u001b[39m)\n\u001b[0;32m   7071\u001b[0m     indexer \u001b[39m=\u001b[39m indexer[\u001b[39m~\u001b[39mmask]\n\u001b[0;32m   7072\u001b[0m \u001b[39mreturn\u001b[39;00m \u001b[39mself\u001b[39m\u001b[39m.\u001b[39mdelete(indexer)\n",
      "\u001b[1;31mKeyError\u001b[0m: \"['Invoice Date'] not found in axis\""
     ]
    }
   ],
   "source": [
    "data.drop('Invoice Date',axis=1 , inplace=True)"
   ]
  },
  {
   "cell_type": "code",
   "execution_count": 61,
   "metadata": {},
   "outputs": [
    {
     "ename": "KeyError",
     "evalue": "\"['Retailer ID'] not found in axis\"",
     "output_type": "error",
     "traceback": [
      "\u001b[1;31m---------------------------------------------------------------------------\u001b[0m",
      "\u001b[1;31mKeyError\u001b[0m                                  Traceback (most recent call last)",
      "\u001b[1;32md:\\Courses\\01Data Analysis\\02 Projects\\02 Python DA Projects\\Retair\\retair.ipynb Cell 21\u001b[0m line \u001b[0;36m1\n\u001b[1;32m----> <a href='vscode-notebook-cell:/d%3A/Courses/01Data%20Analysis/02%20Projects/02%20Python%20DA%20Projects/Retair/retair.ipynb#X26sZmlsZQ%3D%3D?line=0'>1</a>\u001b[0m data\u001b[39m.\u001b[39;49mdrop(\u001b[39m'\u001b[39;49m\u001b[39mRetailer ID\u001b[39;49m\u001b[39m'\u001b[39;49m,axis\u001b[39m=\u001b[39;49m\u001b[39m1\u001b[39;49m , inplace\u001b[39m=\u001b[39;49m\u001b[39mTrue\u001b[39;49;00m)\n",
      "File \u001b[1;32mc:\\Users\\LENOVO\\AppData\\Local\\Programs\\Python\\Python312\\Lib\\site-packages\\pandas\\core\\frame.py:5568\u001b[0m, in \u001b[0;36mDataFrame.drop\u001b[1;34m(self, labels, axis, index, columns, level, inplace, errors)\u001b[0m\n\u001b[0;32m   5420\u001b[0m \u001b[39mdef\u001b[39;00m \u001b[39mdrop\u001b[39m(\n\u001b[0;32m   5421\u001b[0m     \u001b[39mself\u001b[39m,\n\u001b[0;32m   5422\u001b[0m     labels: IndexLabel \u001b[39m|\u001b[39m \u001b[39mNone\u001b[39;00m \u001b[39m=\u001b[39m \u001b[39mNone\u001b[39;00m,\n\u001b[1;32m   (...)\u001b[0m\n\u001b[0;32m   5429\u001b[0m     errors: IgnoreRaise \u001b[39m=\u001b[39m \u001b[39m\"\u001b[39m\u001b[39mraise\u001b[39m\u001b[39m\"\u001b[39m,\n\u001b[0;32m   5430\u001b[0m ) \u001b[39m-\u001b[39m\u001b[39m>\u001b[39m DataFrame \u001b[39m|\u001b[39m \u001b[39mNone\u001b[39;00m:\n\u001b[0;32m   5431\u001b[0m \u001b[39m    \u001b[39m\u001b[39m\"\"\"\u001b[39;00m\n\u001b[0;32m   5432\u001b[0m \u001b[39m    Drop specified labels from rows or columns.\u001b[39;00m\n\u001b[0;32m   5433\u001b[0m \n\u001b[1;32m   (...)\u001b[0m\n\u001b[0;32m   5566\u001b[0m \u001b[39m            weight  1.0     0.8\u001b[39;00m\n\u001b[0;32m   5567\u001b[0m \u001b[39m    \"\"\"\u001b[39;00m\n\u001b[1;32m-> 5568\u001b[0m     \u001b[39mreturn\u001b[39;00m \u001b[39msuper\u001b[39;49m()\u001b[39m.\u001b[39;49mdrop(\n\u001b[0;32m   5569\u001b[0m         labels\u001b[39m=\u001b[39;49mlabels,\n\u001b[0;32m   5570\u001b[0m         axis\u001b[39m=\u001b[39;49maxis,\n\u001b[0;32m   5571\u001b[0m         index\u001b[39m=\u001b[39;49mindex,\n\u001b[0;32m   5572\u001b[0m         columns\u001b[39m=\u001b[39;49mcolumns,\n\u001b[0;32m   5573\u001b[0m         level\u001b[39m=\u001b[39;49mlevel,\n\u001b[0;32m   5574\u001b[0m         inplace\u001b[39m=\u001b[39;49minplace,\n\u001b[0;32m   5575\u001b[0m         errors\u001b[39m=\u001b[39;49merrors,\n\u001b[0;32m   5576\u001b[0m     )\n",
      "File \u001b[1;32mc:\\Users\\LENOVO\\AppData\\Local\\Programs\\Python\\Python312\\Lib\\site-packages\\pandas\\core\\generic.py:4785\u001b[0m, in \u001b[0;36mNDFrame.drop\u001b[1;34m(self, labels, axis, index, columns, level, inplace, errors)\u001b[0m\n\u001b[0;32m   4783\u001b[0m \u001b[39mfor\u001b[39;00m axis, labels \u001b[39min\u001b[39;00m axes\u001b[39m.\u001b[39mitems():\n\u001b[0;32m   4784\u001b[0m     \u001b[39mif\u001b[39;00m labels \u001b[39mis\u001b[39;00m \u001b[39mnot\u001b[39;00m \u001b[39mNone\u001b[39;00m:\n\u001b[1;32m-> 4785\u001b[0m         obj \u001b[39m=\u001b[39m obj\u001b[39m.\u001b[39;49m_drop_axis(labels, axis, level\u001b[39m=\u001b[39;49mlevel, errors\u001b[39m=\u001b[39;49merrors)\n\u001b[0;32m   4787\u001b[0m \u001b[39mif\u001b[39;00m inplace:\n\u001b[0;32m   4788\u001b[0m     \u001b[39mself\u001b[39m\u001b[39m.\u001b[39m_update_inplace(obj)\n",
      "File \u001b[1;32mc:\\Users\\LENOVO\\AppData\\Local\\Programs\\Python\\Python312\\Lib\\site-packages\\pandas\\core\\generic.py:4827\u001b[0m, in \u001b[0;36mNDFrame._drop_axis\u001b[1;34m(self, labels, axis, level, errors, only_slice)\u001b[0m\n\u001b[0;32m   4825\u001b[0m         new_axis \u001b[39m=\u001b[39m axis\u001b[39m.\u001b[39mdrop(labels, level\u001b[39m=\u001b[39mlevel, errors\u001b[39m=\u001b[39merrors)\n\u001b[0;32m   4826\u001b[0m     \u001b[39melse\u001b[39;00m:\n\u001b[1;32m-> 4827\u001b[0m         new_axis \u001b[39m=\u001b[39m axis\u001b[39m.\u001b[39;49mdrop(labels, errors\u001b[39m=\u001b[39;49merrors)\n\u001b[0;32m   4828\u001b[0m     indexer \u001b[39m=\u001b[39m axis\u001b[39m.\u001b[39mget_indexer(new_axis)\n\u001b[0;32m   4830\u001b[0m \u001b[39m# Case for non-unique axis\u001b[39;00m\n\u001b[0;32m   4831\u001b[0m \u001b[39melse\u001b[39;00m:\n",
      "File \u001b[1;32mc:\\Users\\LENOVO\\AppData\\Local\\Programs\\Python\\Python312\\Lib\\site-packages\\pandas\\core\\indexes\\base.py:7070\u001b[0m, in \u001b[0;36mIndex.drop\u001b[1;34m(self, labels, errors)\u001b[0m\n\u001b[0;32m   7068\u001b[0m \u001b[39mif\u001b[39;00m mask\u001b[39m.\u001b[39many():\n\u001b[0;32m   7069\u001b[0m     \u001b[39mif\u001b[39;00m errors \u001b[39m!=\u001b[39m \u001b[39m\"\u001b[39m\u001b[39mignore\u001b[39m\u001b[39m\"\u001b[39m:\n\u001b[1;32m-> 7070\u001b[0m         \u001b[39mraise\u001b[39;00m \u001b[39mKeyError\u001b[39;00m(\u001b[39mf\u001b[39m\u001b[39m\"\u001b[39m\u001b[39m{\u001b[39;00mlabels[mask]\u001b[39m.\u001b[39mtolist()\u001b[39m}\u001b[39;00m\u001b[39m not found in axis\u001b[39m\u001b[39m\"\u001b[39m)\n\u001b[0;32m   7071\u001b[0m     indexer \u001b[39m=\u001b[39m indexer[\u001b[39m~\u001b[39mmask]\n\u001b[0;32m   7072\u001b[0m \u001b[39mreturn\u001b[39;00m \u001b[39mself\u001b[39m\u001b[39m.\u001b[39mdelete(indexer)\n",
      "\u001b[1;31mKeyError\u001b[0m: \"['Retailer ID'] not found in axis\""
     ]
    }
   ],
   "source": [
    "data.drop('Retailer ID',axis=1 , inplace=True)"
   ]
  },
  {
   "cell_type": "code",
   "execution_count": 63,
   "metadata": {},
   "outputs": [
    {
     "data": {
      "text/html": [
       "<div>\n",
       "<style scoped>\n",
       "    .dataframe tbody tr th:only-of-type {\n",
       "        vertical-align: middle;\n",
       "    }\n",
       "\n",
       "    .dataframe tbody tr th {\n",
       "        vertical-align: top;\n",
       "    }\n",
       "\n",
       "    .dataframe thead th {\n",
       "        text-align: right;\n",
       "    }\n",
       "</style>\n",
       "<table border=\"1\" class=\"dataframe\">\n",
       "  <thead>\n",
       "    <tr style=\"text-align: right;\">\n",
       "      <th></th>\n",
       "      <th>Retailer</th>\n",
       "      <th>Region</th>\n",
       "      <th>State</th>\n",
       "      <th>City</th>\n",
       "      <th>Product</th>\n",
       "      <th>Price per Unit</th>\n",
       "      <th>Units Sold</th>\n",
       "      <th>Total Sales</th>\n",
       "      <th>Operating Profit</th>\n",
       "      <th>Sales Method</th>\n",
       "      <th>(Total Sales, Units Sold)</th>\n",
       "      <th>month</th>\n",
       "      <th>year</th>\n",
       "    </tr>\n",
       "  </thead>\n",
       "  <tbody>\n",
       "    <tr>\n",
       "      <th>0</th>\n",
       "      <td>Foot Locker</td>\n",
       "      <td>Northeast</td>\n",
       "      <td>New York</td>\n",
       "      <td>New York</td>\n",
       "      <td>Men's Street Footwear</td>\n",
       "      <td>50.0</td>\n",
       "      <td>1200</td>\n",
       "      <td>60000</td>\n",
       "      <td>30000</td>\n",
       "      <td>In-store</td>\n",
       "      <td>60000</td>\n",
       "      <td>1</td>\n",
       "      <td>2020</td>\n",
       "    </tr>\n",
       "    <tr>\n",
       "      <th>1</th>\n",
       "      <td>Foot Locker</td>\n",
       "      <td>Northeast</td>\n",
       "      <td>New York</td>\n",
       "      <td>New York</td>\n",
       "      <td>Men's Athletic Footwear</td>\n",
       "      <td>50.0</td>\n",
       "      <td>1000</td>\n",
       "      <td>50000</td>\n",
       "      <td>15000</td>\n",
       "      <td>In-store</td>\n",
       "      <td>50000</td>\n",
       "      <td>1</td>\n",
       "      <td>2020</td>\n",
       "    </tr>\n",
       "    <tr>\n",
       "      <th>2</th>\n",
       "      <td>Foot Locker</td>\n",
       "      <td>Northeast</td>\n",
       "      <td>New York</td>\n",
       "      <td>New York</td>\n",
       "      <td>Women's Street Footwear</td>\n",
       "      <td>40.0</td>\n",
       "      <td>1000</td>\n",
       "      <td>40000</td>\n",
       "      <td>14000</td>\n",
       "      <td>In-store</td>\n",
       "      <td>40000</td>\n",
       "      <td>1</td>\n",
       "      <td>2020</td>\n",
       "    </tr>\n",
       "    <tr>\n",
       "      <th>3</th>\n",
       "      <td>Foot Locker</td>\n",
       "      <td>Northeast</td>\n",
       "      <td>New York</td>\n",
       "      <td>New York</td>\n",
       "      <td>Women's Athletic Footwear</td>\n",
       "      <td>45.0</td>\n",
       "      <td>850</td>\n",
       "      <td>38250</td>\n",
       "      <td>13388</td>\n",
       "      <td>In-store</td>\n",
       "      <td>38250</td>\n",
       "      <td>1</td>\n",
       "      <td>2020</td>\n",
       "    </tr>\n",
       "    <tr>\n",
       "      <th>4</th>\n",
       "      <td>Foot Locker</td>\n",
       "      <td>Northeast</td>\n",
       "      <td>New York</td>\n",
       "      <td>New York</td>\n",
       "      <td>Men's Apparel</td>\n",
       "      <td>60.0</td>\n",
       "      <td>900</td>\n",
       "      <td>54000</td>\n",
       "      <td>16200</td>\n",
       "      <td>In-store</td>\n",
       "      <td>54000</td>\n",
       "      <td>1</td>\n",
       "      <td>2020</td>\n",
       "    </tr>\n",
       "    <tr>\n",
       "      <th>...</th>\n",
       "      <td>...</td>\n",
       "      <td>...</td>\n",
       "      <td>...</td>\n",
       "      <td>...</td>\n",
       "      <td>...</td>\n",
       "      <td>...</td>\n",
       "      <td>...</td>\n",
       "      <td>...</td>\n",
       "      <td>...</td>\n",
       "      <td>...</td>\n",
       "      <td>...</td>\n",
       "      <td>...</td>\n",
       "      <td>...</td>\n",
       "    </tr>\n",
       "    <tr>\n",
       "      <th>9643</th>\n",
       "      <td>Foot Locker</td>\n",
       "      <td>Northeast</td>\n",
       "      <td>New Hampshire</td>\n",
       "      <td>Manchester</td>\n",
       "      <td>Men's Apparel</td>\n",
       "      <td>50.0</td>\n",
       "      <td>64</td>\n",
       "      <td>320</td>\n",
       "      <td>90</td>\n",
       "      <td>Outlet</td>\n",
       "      <td>320</td>\n",
       "      <td>1</td>\n",
       "      <td>2021</td>\n",
       "    </tr>\n",
       "    <tr>\n",
       "      <th>9644</th>\n",
       "      <td>Foot Locker</td>\n",
       "      <td>Northeast</td>\n",
       "      <td>New Hampshire</td>\n",
       "      <td>Manchester</td>\n",
       "      <td>Women's Apparel</td>\n",
       "      <td>41.0</td>\n",
       "      <td>105</td>\n",
       "      <td>431</td>\n",
       "      <td>138</td>\n",
       "      <td>Outlet</td>\n",
       "      <td>431</td>\n",
       "      <td>1</td>\n",
       "      <td>2021</td>\n",
       "    </tr>\n",
       "    <tr>\n",
       "      <th>9645</th>\n",
       "      <td>Foot Locker</td>\n",
       "      <td>Northeast</td>\n",
       "      <td>New Hampshire</td>\n",
       "      <td>Manchester</td>\n",
       "      <td>Men's Street Footwear</td>\n",
       "      <td>41.0</td>\n",
       "      <td>184</td>\n",
       "      <td>754</td>\n",
       "      <td>279</td>\n",
       "      <td>Outlet</td>\n",
       "      <td>754</td>\n",
       "      <td>2</td>\n",
       "      <td>2021</td>\n",
       "    </tr>\n",
       "    <tr>\n",
       "      <th>9646</th>\n",
       "      <td>Foot Locker</td>\n",
       "      <td>Northeast</td>\n",
       "      <td>New Hampshire</td>\n",
       "      <td>Manchester</td>\n",
       "      <td>Men's Athletic Footwear</td>\n",
       "      <td>42.0</td>\n",
       "      <td>70</td>\n",
       "      <td>294</td>\n",
       "      <td>123</td>\n",
       "      <td>Outlet</td>\n",
       "      <td>294</td>\n",
       "      <td>2</td>\n",
       "      <td>2021</td>\n",
       "    </tr>\n",
       "    <tr>\n",
       "      <th>9647</th>\n",
       "      <td>Foot Locker</td>\n",
       "      <td>Northeast</td>\n",
       "      <td>New Hampshire</td>\n",
       "      <td>Manchester</td>\n",
       "      <td>Women's Street Footwear</td>\n",
       "      <td>29.0</td>\n",
       "      <td>83</td>\n",
       "      <td>241</td>\n",
       "      <td>65</td>\n",
       "      <td>Outlet</td>\n",
       "      <td>241</td>\n",
       "      <td>2</td>\n",
       "      <td>2021</td>\n",
       "    </tr>\n",
       "  </tbody>\n",
       "</table>\n",
       "<p>9648 rows × 13 columns</p>\n",
       "</div>"
      ],
      "text/plain": [
       "         Retailer     Region          State        City  \\\n",
       "0     Foot Locker  Northeast       New York    New York   \n",
       "1     Foot Locker  Northeast       New York    New York   \n",
       "2     Foot Locker  Northeast       New York    New York   \n",
       "3     Foot Locker  Northeast       New York    New York   \n",
       "4     Foot Locker  Northeast       New York    New York   \n",
       "...           ...        ...            ...         ...   \n",
       "9643  Foot Locker  Northeast  New Hampshire  Manchester   \n",
       "9644  Foot Locker  Northeast  New Hampshire  Manchester   \n",
       "9645  Foot Locker  Northeast  New Hampshire  Manchester   \n",
       "9646  Foot Locker  Northeast  New Hampshire  Manchester   \n",
       "9647  Foot Locker  Northeast  New Hampshire  Manchester   \n",
       "\n",
       "                        Product  Price per Unit  Units Sold  Total Sales  \\\n",
       "0         Men's Street Footwear            50.0        1200        60000   \n",
       "1       Men's Athletic Footwear            50.0        1000        50000   \n",
       "2       Women's Street Footwear            40.0        1000        40000   \n",
       "3     Women's Athletic Footwear            45.0         850        38250   \n",
       "4                 Men's Apparel            60.0         900        54000   \n",
       "...                         ...             ...         ...          ...   \n",
       "9643              Men's Apparel            50.0          64          320   \n",
       "9644            Women's Apparel            41.0         105          431   \n",
       "9645      Men's Street Footwear            41.0         184          754   \n",
       "9646    Men's Athletic Footwear            42.0          70          294   \n",
       "9647    Women's Street Footwear            29.0          83          241   \n",
       "\n",
       "      Operating Profit Sales Method  (Total Sales, Units Sold)  month  year  \n",
       "0                30000     In-store                      60000      1  2020  \n",
       "1                15000     In-store                      50000      1  2020  \n",
       "2                14000     In-store                      40000      1  2020  \n",
       "3                13388     In-store                      38250      1  2020  \n",
       "4                16200     In-store                      54000      1  2020  \n",
       "...                ...          ...                        ...    ...   ...  \n",
       "9643                90       Outlet                        320      1  2021  \n",
       "9644               138       Outlet                        431      1  2021  \n",
       "9645               279       Outlet                        754      2  2021  \n",
       "9646               123       Outlet                        294      2  2021  \n",
       "9647                65       Outlet                        241      2  2021  \n",
       "\n",
       "[9648 rows x 13 columns]"
      ]
     },
     "execution_count": 63,
     "metadata": {},
     "output_type": "execute_result"
    }
   ],
   "source": [
    "data"
   ]
  },
  {
   "cell_type": "markdown",
   "metadata": {},
   "source": [
    "### Working With Missing Value"
   ]
  },
  {
   "cell_type": "code",
   "execution_count": 65,
   "metadata": {},
   "outputs": [
    {
     "data": {
      "text/plain": [
       "Retailer                     0\n",
       "Region                       7\n",
       "State                        0\n",
       "City                         0\n",
       "Product                      0\n",
       "Price per Unit               2\n",
       "Units Sold                   0\n",
       "Total Sales                  0\n",
       "Operating Profit             0\n",
       "Sales Method                 0\n",
       "(Total Sales, Units Sold)    0\n",
       "month                        0\n",
       "year                         0\n",
       "dtype: int64"
      ]
     },
     "execution_count": 65,
     "metadata": {},
     "output_type": "execute_result"
    }
   ],
   "source": [
    "data.isnull().sum()"
   ]
  },
  {
   "cell_type": "code",
   "execution_count": 77,
   "metadata": {},
   "outputs": [
    {
     "name": "stderr",
     "output_type": "stream",
     "text": [
      "C:\\Users\\LENOVO\\AppData\\Local\\Temp\\ipykernel_7668\\13918041.py:1: FutureWarning: Series.fillna with 'method' is deprecated and will raise in a future version. Use obj.ffill() or obj.bfill() instead.\n",
      "  data['Region'] = data['Region'] .fillna (method='ffill')\n"
     ]
    },
    {
     "data": {
      "text/plain": [
       "Retailer                     0\n",
       "Region                       0\n",
       "State                        0\n",
       "City                         0\n",
       "Product                      0\n",
       "Price per Unit               0\n",
       "Units Sold                   0\n",
       "Total Sales                  0\n",
       "Operating Profit             0\n",
       "Sales Method                 0\n",
       "(Total Sales, Units Sold)    0\n",
       "month                        0\n",
       "year                         0\n",
       "dtype: int64"
      ]
     },
     "execution_count": 77,
     "metadata": {},
     "output_type": "execute_result"
    }
   ],
   "source": [
    "data['Region'] = data['Region'] .fillna (method='ffill')\n",
    "data.isnull().sum()"
   ]
  },
  {
   "cell_type": "code",
   "execution_count": 78,
   "metadata": {},
   "outputs": [
    {
     "data": {
      "text/plain": [
       "Retailer                     0\n",
       "Region                       0\n",
       "State                        0\n",
       "City                         0\n",
       "Product                      0\n",
       "Price per Unit               0\n",
       "Units Sold                   0\n",
       "Total Sales                  0\n",
       "Operating Profit             0\n",
       "Sales Method                 0\n",
       "(Total Sales, Units Sold)    0\n",
       "month                        0\n",
       "year                         0\n",
       "dtype: int64"
      ]
     },
     "execution_count": 78,
     "metadata": {},
     "output_type": "execute_result"
    }
   ],
   "source": [
    "data['Price per Unit'] = data['Price per Unit'] .fillna (value= data['Price per Unit'] .mean())\n",
    "data.isnull().sum()"
   ]
  },
  {
   "cell_type": "markdown",
   "metadata": {},
   "source": [
    "### DATA PROC"
   ]
  },
  {
   "cell_type": "code",
   "execution_count": 79,
   "metadata": {},
   "outputs": [
    {
     "data": {
      "text/html": [
       "<div>\n",
       "<style scoped>\n",
       "    .dataframe tbody tr th:only-of-type {\n",
       "        vertical-align: middle;\n",
       "    }\n",
       "\n",
       "    .dataframe tbody tr th {\n",
       "        vertical-align: top;\n",
       "    }\n",
       "\n",
       "    .dataframe thead th {\n",
       "        text-align: right;\n",
       "    }\n",
       "</style>\n",
       "<table border=\"1\" class=\"dataframe\">\n",
       "  <thead>\n",
       "    <tr style=\"text-align: right;\">\n",
       "      <th></th>\n",
       "      <th>Retailer</th>\n",
       "      <th>Region</th>\n",
       "      <th>State</th>\n",
       "      <th>City</th>\n",
       "      <th>Product</th>\n",
       "      <th>Price per Unit</th>\n",
       "      <th>Units Sold</th>\n",
       "      <th>Total Sales</th>\n",
       "      <th>Operating Profit</th>\n",
       "      <th>Sales Method</th>\n",
       "      <th>(Total Sales, Units Sold)</th>\n",
       "      <th>month</th>\n",
       "      <th>year</th>\n",
       "    </tr>\n",
       "  </thead>\n",
       "  <tbody>\n",
       "    <tr>\n",
       "      <th>4577</th>\n",
       "      <td>West Gear</td>\n",
       "      <td>West</td>\n",
       "      <td>Washington</td>\n",
       "      <td>Seattle</td>\n",
       "      <td>Women's Athletic Footwear</td>\n",
       "      <td>74.0</td>\n",
       "      <td>155</td>\n",
       "      <td>1147</td>\n",
       "      <td>505</td>\n",
       "      <td>Online</td>\n",
       "      <td>1147</td>\n",
       "      <td>7</td>\n",
       "      <td>2020</td>\n",
       "    </tr>\n",
       "    <tr>\n",
       "      <th>6804</th>\n",
       "      <td>Foot Locker</td>\n",
       "      <td>Midwest</td>\n",
       "      <td>South Dakota</td>\n",
       "      <td>Sioux Falls</td>\n",
       "      <td>Women's Athletic Footwear</td>\n",
       "      <td>38.0</td>\n",
       "      <td>58</td>\n",
       "      <td>220</td>\n",
       "      <td>95</td>\n",
       "      <td>Online</td>\n",
       "      <td>220</td>\n",
       "      <td>8</td>\n",
       "      <td>2021</td>\n",
       "    </tr>\n",
       "    <tr>\n",
       "      <th>8680</th>\n",
       "      <td>West Gear</td>\n",
       "      <td>West</td>\n",
       "      <td>Oregon</td>\n",
       "      <td>Portland</td>\n",
       "      <td>Men's Athletic Footwear</td>\n",
       "      <td>43.0</td>\n",
       "      <td>158</td>\n",
       "      <td>679</td>\n",
       "      <td>258</td>\n",
       "      <td>Outlet</td>\n",
       "      <td>679</td>\n",
       "      <td>9</td>\n",
       "      <td>2021</td>\n",
       "    </tr>\n",
       "    <tr>\n",
       "      <th>6288</th>\n",
       "      <td>Sports Direct</td>\n",
       "      <td>Southeast</td>\n",
       "      <td>North Carolina</td>\n",
       "      <td>Charlotte</td>\n",
       "      <td>Women's Athletic Footwear</td>\n",
       "      <td>49.0</td>\n",
       "      <td>169</td>\n",
       "      <td>828</td>\n",
       "      <td>422</td>\n",
       "      <td>Online</td>\n",
       "      <td>828</td>\n",
       "      <td>6</td>\n",
       "      <td>2021</td>\n",
       "    </tr>\n",
       "    <tr>\n",
       "      <th>1544</th>\n",
       "      <td>Kohl's</td>\n",
       "      <td>West</td>\n",
       "      <td>Wyoming</td>\n",
       "      <td>Cheyenne</td>\n",
       "      <td>Women's Apparel</td>\n",
       "      <td>55.0</td>\n",
       "      <td>700</td>\n",
       "      <td>38500</td>\n",
       "      <td>9625</td>\n",
       "      <td>In-store</td>\n",
       "      <td>38500</td>\n",
       "      <td>7</td>\n",
       "      <td>2021</td>\n",
       "    </tr>\n",
       "  </tbody>\n",
       "</table>\n",
       "</div>"
      ],
      "text/plain": [
       "           Retailer     Region           State         City  \\\n",
       "4577      West Gear       West      Washington      Seattle   \n",
       "6804    Foot Locker    Midwest    South Dakota  Sioux Falls   \n",
       "8680      West Gear       West          Oregon     Portland   \n",
       "6288  Sports Direct  Southeast  North Carolina    Charlotte   \n",
       "1544         Kohl's       West         Wyoming     Cheyenne   \n",
       "\n",
       "                        Product  Price per Unit  Units Sold  Total Sales  \\\n",
       "4577  Women's Athletic Footwear            74.0         155         1147   \n",
       "6804  Women's Athletic Footwear            38.0          58          220   \n",
       "8680    Men's Athletic Footwear            43.0         158          679   \n",
       "6288  Women's Athletic Footwear            49.0         169          828   \n",
       "1544            Women's Apparel            55.0         700        38500   \n",
       "\n",
       "      Operating Profit Sales Method  (Total Sales, Units Sold)  month  year  \n",
       "4577               505       Online                       1147      7  2020  \n",
       "6804                95       Online                        220      8  2021  \n",
       "8680               258       Outlet                        679      9  2021  \n",
       "6288               422       Online                        828      6  2021  \n",
       "1544              9625     In-store                      38500      7  2021  "
      ]
     },
     "execution_count": 79,
     "metadata": {},
     "output_type": "execute_result"
    }
   ],
   "source": [
    "data.sample(5)"
   ]
  },
  {
   "cell_type": "code",
   "execution_count": 80,
   "metadata": {},
   "outputs": [
    {
     "data": {
      "text/plain": [
       "Region\n",
       "Midwest       7254.310897\n",
       "Northeast     7841.955808\n",
       "South         8371.736690\n",
       "Southeast    13331.001634\n",
       "West         11027.115196\n",
       "Name: Total Sales, dtype: float64"
      ]
     },
     "execution_count": 80,
     "metadata": {},
     "output_type": "execute_result"
    }
   ],
   "source": [
    "#Average Sales By Region\n",
    "\n",
    "data.groupby('Region')['Total Sales'].mean()"
   ]
  },
  {
   "cell_type": "code",
   "execution_count": 81,
   "metadata": {},
   "outputs": [
    {
     "data": {
      "text/plain": [
       "Region\n",
       "Midwest      61875\n",
       "Northeast    78000\n",
       "South        82500\n",
       "Southeast    82500\n",
       "West         73500\n",
       "Name: Total Sales, dtype: int32"
      ]
     },
     "execution_count": 81,
     "metadata": {},
     "output_type": "execute_result"
    }
   ],
   "source": [
    "#max Sales By Region\n",
    "\n",
    "data.groupby('Region')['Total Sales'].max()"
   ]
  },
  {
   "cell_type": "code",
   "execution_count": 83,
   "metadata": {},
   "outputs": [
    {
     "data": {
      "text/html": [
       "<div>\n",
       "<style scoped>\n",
       "    .dataframe tbody tr th:only-of-type {\n",
       "        vertical-align: middle;\n",
       "    }\n",
       "\n",
       "    .dataframe tbody tr th {\n",
       "        vertical-align: top;\n",
       "    }\n",
       "\n",
       "    .dataframe thead th {\n",
       "        text-align: right;\n",
       "    }\n",
       "</style>\n",
       "<table border=\"1\" class=\"dataframe\">\n",
       "  <thead>\n",
       "    <tr style=\"text-align: right;\">\n",
       "      <th></th>\n",
       "      <th>sum</th>\n",
       "      <th>min</th>\n",
       "      <th>max</th>\n",
       "      <th>mean</th>\n",
       "    </tr>\n",
       "    <tr>\n",
       "      <th>Region</th>\n",
       "      <th></th>\n",
       "      <th></th>\n",
       "      <th></th>\n",
       "      <th></th>\n",
       "    </tr>\n",
       "  </thead>\n",
       "  <tbody>\n",
       "    <tr>\n",
       "      <th>Midwest</th>\n",
       "      <td>13580070</td>\n",
       "      <td>0</td>\n",
       "      <td>61875</td>\n",
       "      <td>7254.310897</td>\n",
       "    </tr>\n",
       "    <tr>\n",
       "      <th>Northeast</th>\n",
       "      <td>18632487</td>\n",
       "      <td>16</td>\n",
       "      <td>78000</td>\n",
       "      <td>7841.955808</td>\n",
       "    </tr>\n",
       "    <tr>\n",
       "      <th>South</th>\n",
       "      <td>14466361</td>\n",
       "      <td>51</td>\n",
       "      <td>82500</td>\n",
       "      <td>8371.736690</td>\n",
       "    </tr>\n",
       "    <tr>\n",
       "      <th>Southeast</th>\n",
       "      <td>16317146</td>\n",
       "      <td>75</td>\n",
       "      <td>82500</td>\n",
       "      <td>13331.001634</td>\n",
       "    </tr>\n",
       "    <tr>\n",
       "      <th>West</th>\n",
       "      <td>26994378</td>\n",
       "      <td>74</td>\n",
       "      <td>73500</td>\n",
       "      <td>11027.115196</td>\n",
       "    </tr>\n",
       "  </tbody>\n",
       "</table>\n",
       "</div>"
      ],
      "text/plain": [
       "                sum  min    max          mean\n",
       "Region                                       \n",
       "Midwest    13580070    0  61875   7254.310897\n",
       "Northeast  18632487   16  78000   7841.955808\n",
       "South      14466361   51  82500   8371.736690\n",
       "Southeast  16317146   75  82500  13331.001634\n",
       "West       26994378   74  73500  11027.115196"
      ]
     },
     "execution_count": 83,
     "metadata": {},
     "output_type": "execute_result"
    }
   ],
   "source": [
    "#agg functions Total-Sales By Region\n",
    "data.groupby('Region')['Total Sales'].agg(['sum','min','max','mean'])"
   ]
  },
  {
   "cell_type": "code",
   "execution_count": 85,
   "metadata": {},
   "outputs": [
    {
     "data": {
      "text/html": [
       "<div>\n",
       "<style scoped>\n",
       "    .dataframe tbody tr th:only-of-type {\n",
       "        vertical-align: middle;\n",
       "    }\n",
       "\n",
       "    .dataframe tbody tr th {\n",
       "        vertical-align: top;\n",
       "    }\n",
       "\n",
       "    .dataframe thead th {\n",
       "        text-align: right;\n",
       "    }\n",
       "</style>\n",
       "<table border=\"1\" class=\"dataframe\">\n",
       "  <thead>\n",
       "    <tr style=\"text-align: right;\">\n",
       "      <th></th>\n",
       "      <th>Retailer</th>\n",
       "      <th>Region</th>\n",
       "      <th>State</th>\n",
       "      <th>City</th>\n",
       "      <th>Product</th>\n",
       "      <th>Price per Unit</th>\n",
       "      <th>Units Sold</th>\n",
       "      <th>Total Sales</th>\n",
       "      <th>Operating Profit</th>\n",
       "      <th>Sales Method</th>\n",
       "      <th>(Total Sales, Units Sold)</th>\n",
       "      <th>month</th>\n",
       "      <th>year</th>\n",
       "    </tr>\n",
       "  </thead>\n",
       "  <tbody>\n",
       "    <tr>\n",
       "      <th>1970</th>\n",
       "      <td>West Gear</td>\n",
       "      <td>South</td>\n",
       "      <td>Louisiana</td>\n",
       "      <td>New Orleans</td>\n",
       "      <td>Women's Apparel</td>\n",
       "      <td>110.0</td>\n",
       "      <td>750</td>\n",
       "      <td>82500</td>\n",
       "      <td>28875</td>\n",
       "      <td>Online</td>\n",
       "      <td>82500</td>\n",
       "      <td>6</td>\n",
       "      <td>2021</td>\n",
       "    </tr>\n",
       "    <tr>\n",
       "      <th>1394</th>\n",
       "      <td>Walmart</td>\n",
       "      <td>Southeast</td>\n",
       "      <td>Florida</td>\n",
       "      <td>Orlando</td>\n",
       "      <td>Women's Apparel</td>\n",
       "      <td>110.0</td>\n",
       "      <td>750</td>\n",
       "      <td>82500</td>\n",
       "      <td>37125</td>\n",
       "      <td>In-store</td>\n",
       "      <td>82500</td>\n",
       "      <td>6</td>\n",
       "      <td>2021</td>\n",
       "    </tr>\n",
       "    <tr>\n",
       "      <th>1971</th>\n",
       "      <td>West Gear</td>\n",
       "      <td>South</td>\n",
       "      <td>Louisiana</td>\n",
       "      <td>New Orleans</td>\n",
       "      <td>Men's Street Footwear</td>\n",
       "      <td>90.0</td>\n",
       "      <td>900</td>\n",
       "      <td>81000</td>\n",
       "      <td>32400</td>\n",
       "      <td>Online</td>\n",
       "      <td>81000</td>\n",
       "      <td>7</td>\n",
       "      <td>2021</td>\n",
       "    </tr>\n",
       "    <tr>\n",
       "      <th>1395</th>\n",
       "      <td>Walmart</td>\n",
       "      <td>Southeast</td>\n",
       "      <td>Florida</td>\n",
       "      <td>Orlando</td>\n",
       "      <td>Men's Street Footwear</td>\n",
       "      <td>90.0</td>\n",
       "      <td>900</td>\n",
       "      <td>81000</td>\n",
       "      <td>24300</td>\n",
       "      <td>In-store</td>\n",
       "      <td>81000</td>\n",
       "      <td>7</td>\n",
       "      <td>2021</td>\n",
       "    </tr>\n",
       "    <tr>\n",
       "      <th>1401</th>\n",
       "      <td>Walmart</td>\n",
       "      <td>Southeast</td>\n",
       "      <td>Florida</td>\n",
       "      <td>Orlando</td>\n",
       "      <td>Men's Street Footwear</td>\n",
       "      <td>95.0</td>\n",
       "      <td>850</td>\n",
       "      <td>80750</td>\n",
       "      <td>24225</td>\n",
       "      <td>In-store</td>\n",
       "      <td>80750</td>\n",
       "      <td>8</td>\n",
       "      <td>2021</td>\n",
       "    </tr>\n",
       "    <tr>\n",
       "      <th>1977</th>\n",
       "      <td>West Gear</td>\n",
       "      <td>South</td>\n",
       "      <td>Louisiana</td>\n",
       "      <td>New Orleans</td>\n",
       "      <td>Men's Street Footwear</td>\n",
       "      <td>95.0</td>\n",
       "      <td>850</td>\n",
       "      <td>80750</td>\n",
       "      <td>32300</td>\n",
       "      <td>Online</td>\n",
       "      <td>80750</td>\n",
       "      <td>8</td>\n",
       "      <td>2021</td>\n",
       "    </tr>\n",
       "    <tr>\n",
       "      <th>62</th>\n",
       "      <td>Walmart</td>\n",
       "      <td>Northeast</td>\n",
       "      <td>New York</td>\n",
       "      <td>New York</td>\n",
       "      <td>Men's Street Footwear</td>\n",
       "      <td>65.0</td>\n",
       "      <td>1200</td>\n",
       "      <td>78000</td>\n",
       "      <td>39000</td>\n",
       "      <td>Outlet</td>\n",
       "      <td>78000</td>\n",
       "      <td>5</td>\n",
       "      <td>2020</td>\n",
       "    </tr>\n",
       "    <tr>\n",
       "      <th>36</th>\n",
       "      <td>Foot Locker</td>\n",
       "      <td>Northeast</td>\n",
       "      <td>New York</td>\n",
       "      <td>New York</td>\n",
       "      <td>Men's Street Footwear</td>\n",
       "      <td>60.0</td>\n",
       "      <td>1275</td>\n",
       "      <td>76500</td>\n",
       "      <td>38250</td>\n",
       "      <td>Outlet</td>\n",
       "      <td>76500</td>\n",
       "      <td>3</td>\n",
       "      <td>2020</td>\n",
       "    </tr>\n",
       "    <tr>\n",
       "      <th>2361</th>\n",
       "      <td>Foot Locker</td>\n",
       "      <td>Southeast</td>\n",
       "      <td>South Carolina</td>\n",
       "      <td>Charleston</td>\n",
       "      <td>Men's Street Footwear</td>\n",
       "      <td>70.0</td>\n",
       "      <td>1075</td>\n",
       "      <td>75250</td>\n",
       "      <td>33863</td>\n",
       "      <td>Online</td>\n",
       "      <td>75250</td>\n",
       "      <td>12</td>\n",
       "      <td>2021</td>\n",
       "    </tr>\n",
       "    <tr>\n",
       "      <th>42</th>\n",
       "      <td>Foot Locker</td>\n",
       "      <td>Northeast</td>\n",
       "      <td>New York</td>\n",
       "      <td>New York</td>\n",
       "      <td>Men's Street Footwear</td>\n",
       "      <td>60.0</td>\n",
       "      <td>1250</td>\n",
       "      <td>75000</td>\n",
       "      <td>37500</td>\n",
       "      <td>Outlet</td>\n",
       "      <td>75000</td>\n",
       "      <td>3</td>\n",
       "      <td>2020</td>\n",
       "    </tr>\n",
       "  </tbody>\n",
       "</table>\n",
       "</div>"
      ],
      "text/plain": [
       "         Retailer     Region           State         City  \\\n",
       "1970    West Gear      South       Louisiana  New Orleans   \n",
       "1394      Walmart  Southeast         Florida      Orlando   \n",
       "1971    West Gear      South       Louisiana  New Orleans   \n",
       "1395      Walmart  Southeast         Florida      Orlando   \n",
       "1401      Walmart  Southeast         Florida      Orlando   \n",
       "1977    West Gear      South       Louisiana  New Orleans   \n",
       "62        Walmart  Northeast        New York     New York   \n",
       "36    Foot Locker  Northeast        New York     New York   \n",
       "2361  Foot Locker  Southeast  South Carolina   Charleston   \n",
       "42    Foot Locker  Northeast        New York     New York   \n",
       "\n",
       "                    Product  Price per Unit  Units Sold  Total Sales  \\\n",
       "1970        Women's Apparel           110.0         750        82500   \n",
       "1394        Women's Apparel           110.0         750        82500   \n",
       "1971  Men's Street Footwear            90.0         900        81000   \n",
       "1395  Men's Street Footwear            90.0         900        81000   \n",
       "1401  Men's Street Footwear            95.0         850        80750   \n",
       "1977  Men's Street Footwear            95.0         850        80750   \n",
       "62    Men's Street Footwear            65.0        1200        78000   \n",
       "36    Men's Street Footwear            60.0        1275        76500   \n",
       "2361  Men's Street Footwear            70.0        1075        75250   \n",
       "42    Men's Street Footwear            60.0        1250        75000   \n",
       "\n",
       "      Operating Profit Sales Method  (Total Sales, Units Sold)  month  year  \n",
       "1970             28875       Online                      82500      6  2021  \n",
       "1394             37125     In-store                      82500      6  2021  \n",
       "1971             32400       Online                      81000      7  2021  \n",
       "1395             24300     In-store                      81000      7  2021  \n",
       "1401             24225     In-store                      80750      8  2021  \n",
       "1977             32300       Online                      80750      8  2021  \n",
       "62               39000       Outlet                      78000      5  2020  \n",
       "36               38250       Outlet                      76500      3  2020  \n",
       "2361             33863       Online                      75250     12  2021  \n",
       "42               37500       Outlet                      75000      3  2020  "
      ]
     },
     "execution_count": 85,
     "metadata": {},
     "output_type": "execute_result"
    }
   ],
   "source": [
    "# Top 10 Sales\n",
    "data.sort_values(by=['Total Sales'] ,ascending=False).head(10)"
   ]
  },
  {
   "cell_type": "code",
   "execution_count": 86,
   "metadata": {},
   "outputs": [
    {
     "data": {
      "text/plain": [
       "Product\n",
       "Men's Street Footwear        1610\n",
       "Men's Athletic Footwear      1610\n",
       "Women's Street Footwear      1608\n",
       "Women's Apparel              1608\n",
       "Women's Athletic Footwear    1606\n",
       "Men's Apparel                1605\n",
       "Men's aparel                    1\n",
       "Name: count, dtype: int64"
      ]
     },
     "execution_count": 86,
     "metadata": {},
     "output_type": "execute_result"
    }
   ],
   "source": [
    "data['Product'].value_counts()"
   ]
  },
  {
   "cell_type": "code",
   "execution_count": 87,
   "metadata": {},
   "outputs": [
    {
     "data": {
      "text/plain": [
       "Sales Method\n",
       "Online      4889\n",
       "Outlet      3019\n",
       "In-store    1740\n",
       "Name: count, dtype: int64"
      ]
     },
     "execution_count": 87,
     "metadata": {},
     "output_type": "execute_result"
    }
   ],
   "source": [
    "data['Sales Method'].value_counts()"
   ]
  },
  {
   "cell_type": "markdown",
   "metadata": {},
   "source": [
    "# Data Exploration"
   ]
  },
  {
   "cell_type": "code",
   "execution_count": 122,
   "metadata": {},
   "outputs": [
    {
     "data": {
      "image/png": "[encoded data removed]",
      "text/plain": [
       "<Figure size 640x480 with 1 Axes>"
      ]
     },
     "metadata": {},
     "output_type": "display_data"
    }
   ],
   "source": [
    "sns.countplot(data=data , x='Sales Method')\n",
    "plt.title(\"Sales Methods\")\n",
    "plt.show()"
   ]
  },
  {
   "cell_type": "code",
   "execution_count": 124,
   "metadata": {},
   "outputs": [
    {
     "data": {
      "text/plain": [
       "<Axes: xlabel='Sales Method', ylabel='count'>"
      ]
     },
     "execution_count": 124,
     "metadata": {},
     "output_type": "execute_result"
    },
    {
     "data": {
      "image/png": "[encoded data removed]",
      "text/plain": [
       "<Figure size 640x480 with 1 Axes>"
      ]
     },
     "metadata": {},
     "output_type": "display_data"
    }
   ],
   "source": [
    "sns.countplot(data=data ,x='Sales Method' ,hue=\"Region\")"
   ]
  },
  {
   "cell_type": "code",
   "execution_count": 92,
   "metadata": {},
   "outputs": [
    {
     "data": {
      "image/png": "[encoded data removed]",
      "text/plain": [
       "<Figure size 640x480 with 1 Axes>"
      ]
     },
     "metadata": {},
     "output_type": "display_data"
    }
   ],
   "source": [
    "# Sales Over Months\n",
    "sns.lineplot(x='month' ,y='Total Sales',data=data)\n",
    "plt.title('Sales Over Months')\n",
    "plt.show()"
   ]
  },
  {
   "cell_type": "code",
   "execution_count": 108,
   "metadata": {},
   "outputs": [
    {
     "data": {
      "text/html": [
       "<div>\n",
       "<style scoped>\n",
       "    .dataframe tbody tr th:only-of-type {\n",
       "        vertical-align: middle;\n",
       "    }\n",
       "\n",
       "    .dataframe tbody tr th {\n",
       "        vertical-align: top;\n",
       "    }\n",
       "\n",
       "    .dataframe thead th {\n",
       "        text-align: right;\n",
       "    }\n",
       "</style>\n",
       "<table border=\"1\" class=\"dataframe\">\n",
       "  <thead>\n",
       "    <tr style=\"text-align: right;\">\n",
       "      <th></th>\n",
       "      <th>Retailer</th>\n",
       "      <th>Region</th>\n",
       "      <th>State</th>\n",
       "      <th>City</th>\n",
       "      <th>Product</th>\n",
       "      <th>Price per Unit</th>\n",
       "      <th>Units Sold</th>\n",
       "      <th>Total Sales</th>\n",
       "      <th>Operating Profit</th>\n",
       "      <th>Sales Method</th>\n",
       "      <th>(Total Sales, Units Sold)</th>\n",
       "      <th>month</th>\n",
       "      <th>year</th>\n",
       "    </tr>\n",
       "  </thead>\n",
       "  <tbody>\n",
       "    <tr>\n",
       "      <th>9611</th>\n",
       "      <td>Amazon</td>\n",
       "      <td>Northeast</td>\n",
       "      <td>New Hampshire</td>\n",
       "      <td>Manchester</td>\n",
       "      <td>Women's Street Footwear</td>\n",
       "      <td>39.0</td>\n",
       "      <td>113</td>\n",
       "      <td>441</td>\n",
       "      <td>154</td>\n",
       "      <td>Outlet</td>\n",
       "      <td>441</td>\n",
       "      <td>8</td>\n",
       "      <td>2021</td>\n",
       "    </tr>\n",
       "  </tbody>\n",
       "</table>\n",
       "</div>"
      ],
      "text/plain": [
       "     Retailer     Region          State        City                  Product  \\\n",
       "9611   Amazon  Northeast  New Hampshire  Manchester  Women's Street Footwear   \n",
       "\n",
       "      Price per Unit  Units Sold  Total Sales  Operating Profit Sales Method  \\\n",
       "9611            39.0         113          441               154       Outlet   \n",
       "\n",
       "      (Total Sales, Units Sold)  month  year  \n",
       "9611                        441      8  2021  "
      ]
     },
     "execution_count": 108,
     "metadata": {},
     "output_type": "execute_result"
    }
   ],
   "source": [
    "data.sample()\n"
   ]
  },
  {
   "cell_type": "code",
   "execution_count": 98,
   "metadata": {},
   "outputs": [
    {
     "data": {
      "image/png": "[encoded data removed]",
      "text/plain": [
       "<Figure size 640x480 with 1 Axes>"
      ]
     },
     "metadata": {},
     "output_type": "display_data"
    }
   ],
   "source": [
    "sns.countplot(data=data ,x=\"Retailer\")\n",
    "plt.show()"
   ]
  },
  {
   "cell_type": "code",
   "execution_count": 121,
   "metadata": {},
   "outputs": [
    {
     "data": {
      "text/plain": [
       "Text(0.5, 1.0, 'Count of Product per Years')"
      ]
     },
     "execution_count": 121,
     "metadata": {},
     "output_type": "execute_result"
    },
    {
     "data": {
      "image/png": "[encoded data removed]",
      "text/plain": [
       "<Figure size 640x480 with 1 Axes>"
      ]
     },
     "metadata": {},
     "output_type": "display_data"
    }
   ],
   "source": [
    "plt.xticks(rotation=90)\n",
    "sns.countplot( data=data, x=\"Product\" ,hue=\"year\")\n",
    "plt.title('Count of Product per Years')\n"
   ]
  }
 ],
 "metadata": {
  "kernelspec": {
   "display_name": "Python 3",
   "language": "python",
   "name": "python3"
  },
  "language_info": {
   "codemirror_mode": {
    "name": "ipython",
    "version": 3
   },
   "file_extension": ".py",
   "mimetype": "text/x-python",
   "name": "python",
   "nbconvert_exporter": "python",
   "pygments_lexer": "ipython3",
   "version": "3.12.1"
  },
  "orig_nbformat": 4
 },
 "nbformat": 4,
 "nbformat_minor": 2
}
